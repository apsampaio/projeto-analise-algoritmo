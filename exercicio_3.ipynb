{
 "cells": [
  {
   "cell_type": "code",
   "execution_count": 1,
   "metadata": {},
   "outputs": [],
   "source": [
    "def sort(arr: list):\n",
    "    for i in range(len(arr)):\n",
    "        smaller = arr[i]\n",
    "        index = i\n",
    "        for j in range(i + 1, len(arr)):\n",
    "            if smaller > arr[j]:\n",
    "                smaller = arr[j]\n",
    "                index = j\n",
    "        aux = arr[i]\n",
    "        arr[i] = smaller\n",
    "        arr[index] = aux\n",
    "    return arr\n",
    "\n",
    "assert sort([2, 1, 5, 3])[0] == 1\n",
    "assert sort([5, 1, 4, 3])[1] == 3\n",
    "assert sort([-1, 5, -2, 4])[0] == -2"
   ]
  },
  {
   "attachments": {},
   "cell_type": "markdown",
   "metadata": {},
   "source": [
    "Complexity: $n^2$"
   ]
  }
 ],
 "metadata": {
  "kernelspec": {
   "display_name": "Python 3",
   "language": "python",
   "name": "python3"
  },
  "language_info": {
   "codemirror_mode": {
    "name": "ipython",
    "version": 3
   },
   "file_extension": ".py",
   "mimetype": "text/x-python",
   "name": "python",
   "nbconvert_exporter": "python",
   "pygments_lexer": "ipython3",
   "version": "3.9.0"
  },
  "orig_nbformat": 4
 },
 "nbformat": 4,
 "nbformat_minor": 2
}

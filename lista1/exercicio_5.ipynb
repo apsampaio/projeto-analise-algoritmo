{
 "cells": [
  {
   "cell_type": "code",
   "execution_count": null,
   "metadata": {},
   "outputs": [],
   "source": [
    "# qual a complexidade do algoritmo\n",
    "\n",
    "def function(n):\n",
    "    for i in range(n):\n",
    "        pass # O(1)\n",
    "        for j in range(n):\n",
    "            for _ in range(n): #O(n)\n",
    "                pass\n",
    "            for _ in range(n):\n",
    "                for _ in range(n): # O(n^2)\n",
    "                    for _ in range(n):\n",
    "                        pass\n",
    "                            \n",
    "\n",
    "\n"
   ]
  },
  {
   "attachments": {},
   "cell_type": "markdown",
   "metadata": {},
   "source": [
    "Complexity: $O(n^6)$"
   ]
  }
 ],
 "metadata": {
  "kernelspec": {
   "display_name": "Python 3",
   "language": "python",
   "name": "python3"
  },
  "language_info": {
   "codemirror_mode": {
    "name": "ipython",
    "version": 3
   },
   "file_extension": ".py",
   "mimetype": "text/x-python",
   "name": "python",
   "nbconvert_exporter": "python",
   "pygments_lexer": "ipython3",
   "version": "3.9.0"
  },
  "orig_nbformat": 4
 },
 "nbformat": 4,
 "nbformat_minor": 2
}

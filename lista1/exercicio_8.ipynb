{
 "cells": [
  {
   "cell_type": "code",
   "execution_count": 1,
   "metadata": {},
   "outputs": [],
   "source": [
    "def func(n: int, d=2):\n",
    "    if n <= 1:\n",
    "         return False\n",
    "    if d >= n:\n",
    "         return True\n",
    "    if n % d == 0:\n",
    "         return False\n",
    "    return func (n, d+1)"
   ]
  },
  {
   "cell_type": "markdown",
   "metadata": {},
   "source": [
    "Complexity = $O(n)$"
   ]
  },
  {
   "cell_type": "code",
   "execution_count": 2,
   "metadata": {},
   "outputs": [],
   "source": [
    "assert func(2) == True\n",
    "assert func(3) == True\n",
    "assert func(5) == True\n",
    "assert func(7) == True\n",
    "assert func(11) == True\n",
    "assert func(13) == True\n",
    "assert func(17) == True\n",
    "assert func(79) == True\n",
    "assert func(97) == True\n",
    "\n",
    "\n",
    "assert func(4) == False\n",
    "assert func(6) == False\n",
    "assert func(8) == False\n",
    "assert func(12) == False\n",
    "assert func(15) == False\n",
    "assert func(14) == False\n",
    "assert func(48) == False\n",
    "assert func(86) == False\n",
    "assert func(119) == False\n"
   ]
  }
 ],
 "metadata": {
  "kernelspec": {
   "display_name": "Python 3",
   "language": "python",
   "name": "python3"
  },
  "language_info": {
   "codemirror_mode": {
    "name": "ipython",
    "version": 3
   },
   "file_extension": ".py",
   "mimetype": "text/x-python",
   "name": "python",
   "nbconvert_exporter": "python",
   "pygments_lexer": "ipython3",
   "version": "3.8.3"
  },
  "orig_nbformat": 4
 },
 "nbformat": 4,
 "nbformat_minor": 2
}

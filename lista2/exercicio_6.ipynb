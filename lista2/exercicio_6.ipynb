{
 "cells": [
  {
   "cell_type": "markdown",
   "metadata": {},
   "source": [
    "## Teorema Mestre Define\n",
    "\n",
    "$$\n",
    "T(n) <= a * T(\\frac{n}{b}) + c * n^d\n",
    "$$\n",
    "\n",
    "- se $a = b^d$ entao $T(n) = O(n^d \\log_2 n)$\n",
    "- se $a < b^d$ entao $T(n) = O(n^d)$\n",
    "- se $a > b^d$ entao $T(n) = O(n^{\\log_b a})$"
   ]
  },
  {
   "cell_type": "markdown",
   "metadata": {},
   "source": [
    "Utilizando-o qual seria  a resolucao utilizando notacao Big-O da recorrencia $T(n) = 729 * T(\\frac{n}{9}) + 15 * n^3$"
   ]
  },
  {
   "cell_type": "markdown",
   "metadata": {},
   "source": [
    "$ a = 729 $\n",
    "\n",
    "$ b = 9 $\n",
    "\n",
    "$ c = 15 $\n",
    "\n",
    "$ d = 3 $"
   ]
  },
  {
   "cell_type": "markdown",
   "metadata": {},
   "source": [
    "$ a = b^d = O(n^3\\log_2 n) $"
   ]
  }
 ],
 "metadata": {
  "kernelspec": {
   "display_name": "machinelearning",
   "language": "python",
   "name": "python3"
  },
  "language_info": {
   "codemirror_mode": {
    "name": "ipython",
    "version": 3
   },
   "file_extension": ".py",
   "mimetype": "text/x-python",
   "name": "python",
   "nbconvert_exporter": "python",
   "pygments_lexer": "ipython3",
   "version": "3.8.3"
  },
  "orig_nbformat": 4
 },
 "nbformat": 4,
 "nbformat_minor": 2
}

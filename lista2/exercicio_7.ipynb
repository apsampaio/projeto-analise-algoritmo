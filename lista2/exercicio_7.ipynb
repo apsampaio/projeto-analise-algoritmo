{
 "cells": [
  {
   "cell_type": "markdown",
   "metadata": {},
   "source": [
    "Considere o algoritmo Merge Sort visto em aula e responda as questoes:\n",
    "\n",
    "1. Quantos subproblemas sao gerados no algoritmo?\n",
    "$$2^j$$\n",
    "2. Qual o tamanho dos vetores desse subproblemas?\n",
    "$$\\frac{n}{2^j}$$\n",
    "3. Quantas operacoes sao feitas localmente, ou seja, no problema so na hora de ordenar, sem contar a recursao?\n",
    "$$cn$$\n",
    "4. Qual a recorrencia que apresenta o tempo gasto por esse algoritmo?\n",
    "$$T(n) <= 2T(\\frac{n}{2}) + cn^1$$\n",
    "\n",
    "5. A resolucao, pode ser vista como uma arvore binaria, onde cada nivel $i$, temos $2^i$ subproblemas, de tamanhos $\\frac{n}{2^i}$, sabendo que nao existe recursao para quando o subproblema tem tamanho 1, qual o ultimo nivel H desta arvore binaria?\n",
    "$$ h = num_{sp} * tam_{sp} $$\n",
    "$$ tam_{sp}(h) = \\frac{n}{2^h} = 1 $$\n",
    "$$ h = log_2 n$$\n",
    "*se contado do nivel 0*\n",
    "$$ h = log_2 n + 1$$"
   ]
  }
 ],
 "metadata": {
  "language_info": {
   "name": "python"
  },
  "orig_nbformat": 4
 },
 "nbformat": 4,
 "nbformat_minor": 2
}

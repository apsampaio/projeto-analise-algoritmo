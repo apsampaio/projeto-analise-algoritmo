{
 "cells": [
  {
   "cell_type": "markdown",
   "metadata": {},
   "source": [
    "a - 12\n",
    "\n",
    "b - 3, menor pois o tamanho da matriz foi reduzido\n",
    "\n",
    "c - divisao e conquista\n",
    "\n",
    "d - $O(n^2)$\n",
    "\n",
    "---\n",
    "\n",
    "Teorema Mestre = $T(n) = aT(\\frac{n}{b}) + c(n^d)$\n",
    "\n",
    "$a = 4$\n",
    "\n",
    "$b = 2$\n",
    "\n",
    "$d = 1$ \n",
    "\n",
    "$c = ?$ \n",
    "\n",
    "$a > b^d = T(n) = O(n^{\\log_2 4})$\n",
    "\n",
    "$O(n^2)$\n"
   ]
  },
  {
   "cell_type": "code",
   "execution_count": 1,
   "metadata": {},
   "outputs": [],
   "source": [
    "def dnc(M: list):\n",
    "    n = len(M)\n",
    "    if n == 2:\n",
    "        if M[0][0] < M[0][1]:\n",
    "           sr = M[0][0]\n",
    "        else:\n",
    "           sr = M[0][1]\n",
    "        \n",
    "        if M[1][0] < M[1][1]:\n",
    "            sr2 = M[1][0]\n",
    "        else:\n",
    "            sr2 = M[1][1]\n",
    "\n",
    "        if sr < sr2:\n",
    "            return sr\n",
    "        else:\n",
    "            return sr2\n",
    "\n",
    "    h = int(n / 2) # half \n",
    "    r = []\n",
    "\n",
    "    tl = [i[:h] for i in M[:h]] # top-left\n",
    "    tr = [i[h:] for i in M[:h]] # top-right\n",
    "    bl = [i[:h] for i in M[h:]] # bottom-left\n",
    "    br = [i[h:] for i in M[h:]] # bottom-right\n",
    "   \n",
    "    r.append([dnc(tl), dnc(tr)])\n",
    "    r.append([dnc(bl), dnc(br)])\n",
    "\n",
    "    return r\n",
    "    "
   ]
  },
  {
   "cell_type": "code",
   "execution_count": 2,
   "metadata": {},
   "outputs": [
    {
     "data": {
      "text/plain": [
       "[[1, 3], [9, 11]]"
      ]
     },
     "metadata": {},
     "output_type": "display_data"
    }
   ],
   "source": [
    "A = [\n",
    "    [1,  2,  4,  3],\n",
    "    [5,  6,  7,  8],\n",
    "    [13, 10, 16, 12],\n",
    "    [9,  14, 15, 11]\n",
    "]\n",
    "\n",
    "B = [\n",
    "    [1,  2,  3,  4,  5,  6,  7,  8],\n",
    "    [7,  8,  9,  10, 11, 12, 13, 14],\n",
    "    [13, 14, 15, 16, 17, 18, 19, 20],\n",
    "    [19, 20, 21, 22, 23, 24, 25, 26],\n",
    "    [25, 26, 27, 28, 29, 30, 31, 32],\n",
    "    [31, 32, 33, 34, 35, 36, 37, 38],\n",
    "    [31, 32, 33, 34, 35, 36, 37, 38],\n",
    "    [31, 32, 33, 34, 35, 36, 37, 38],\n",
    "]\n",
    "\n",
    "display(dnc(A))"
   ]
  }
 ],
 "metadata": {
  "kernelspec": {
   "display_name": "machinelearning",
   "language": "python",
   "name": "python3"
  },
  "language_info": {
   "codemirror_mode": {
    "name": "ipython",
    "version": 3
   },
   "file_extension": ".py",
   "mimetype": "text/x-python",
   "name": "python",
   "nbconvert_exporter": "python",
   "pygments_lexer": "ipython3",
   "version": "3.8.3"
  },
  "orig_nbformat": 4
 },
 "nbformat": 4,
 "nbformat_minor": 2
}

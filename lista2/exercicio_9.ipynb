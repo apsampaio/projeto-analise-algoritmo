{
 "cells": [
  {
   "cell_type": "code",
   "execution_count": 45,
   "metadata": {},
   "outputs": [],
   "source": [
    "import math\n",
    "\n",
    "def bigsum(A: list, B=[], k=0):\n",
    "    if(k == len(A)):\n",
    "        return B\n",
    "\n",
    "    C = []\n",
    "    c = -(math.inf)\n",
    "    \n",
    "    for i in range(k, len(A)):\n",
    "        if A[i] > c:\n",
    "            if i != len(A) - 1:\n",
    "                if A[i+1] > c and A[i+1] < A[i]:\n",
    "                    continue\n",
    "            C.append(A[i])\n",
    "            c = A[i]\n",
    "    if len(C) > len(B):\n",
    "        B = C\n",
    "\n",
    "    return bigsum(A, B, k+1)\n",
    "    "
   ]
  },
  {
   "cell_type": "code",
   "execution_count": 46,
   "metadata": {},
   "outputs": [
    {
     "data": {
      "text/plain": [
       "[0, 5, 8, 9, 10, 11, 14]"
      ]
     },
     "execution_count": 46,
     "metadata": {},
     "output_type": "execute_result"
    }
   ],
   "source": [
    "bigsum([0, 13, 7, 5, 8, 20, 9, 5, 10, 23, 11, 14])"
   ]
  }
 ],
 "metadata": {
  "kernelspec": {
   "display_name": "machinelearning",
   "language": "python",
   "name": "python3"
  },
  "language_info": {
   "codemirror_mode": {
    "name": "ipython",
    "version": 3
   },
   "file_extension": ".py",
   "mimetype": "text/x-python",
   "name": "python",
   "nbconvert_exporter": "python",
   "pygments_lexer": "ipython3",
   "version": "3.8.3"
  },
  "orig_nbformat": 4
 },
 "nbformat": 4,
 "nbformat_minor": 2
}

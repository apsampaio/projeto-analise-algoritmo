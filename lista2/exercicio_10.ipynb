{
 "cells": [
  {
   "cell_type": "code",
   "execution_count": 27,
   "metadata": {},
   "outputs": [],
   "source": [
    "import math\n",
    "\n",
    "def beauty(A: list, s: int):\n",
    "    min = math.inf\n",
    "    max = -(math.inf)\n",
    "\n",
    "    sum = 0\n",
    "\n",
    "    for i in A:\n",
    "        if i < min:\n",
    "            min = i\n",
    "        if i > max:\n",
    "            max = i\n",
    "        sum += i\n",
    "\n",
    "    if sum == s:\n",
    "        return True\n",
    "    \n",
    "    if len(A) == 1:\n",
    "        return False\n",
    "\n",
    "    r = []\n",
    "    l = []\n",
    "    mean = math.floor((max + min) / 2)\n",
    "\n",
    "    for i in A:\n",
    "        if i <= mean:\n",
    "            l.append(i)\n",
    "        else:\n",
    "            r.append(i)\n",
    "\n",
    "    # TODO CHOOSE THE RIGHT HALF\n",
    "    if len(l) > len(r):\n",
    "        return beauty(l, s)\n",
    "    else:\n",
    "        return beauty(r, s)"
   ]
  },
  {
   "cell_type": "code",
   "execution_count": 28,
   "metadata": {},
   "outputs": [
    {
     "name": "stdout",
     "output_type": "stream",
     "text": [
      "[1, 2, 3] [4, 5, 6] 3\n",
      "[4, 5] [6] 5\n",
      "[1, 2, 3] [4, 5, 6] 3\n",
      "[4, 5] [6] 5\n",
      "[4] [5] 4\n"
     ]
    },
    {
     "ename": "AssertionError",
     "evalue": "",
     "output_type": "error",
     "traceback": [
      "\u001b[1;31m---------------------------------------------------------------------------\u001b[0m",
      "\u001b[1;31mAssertionError\u001b[0m                            Traceback (most recent call last)",
      "\u001b[1;32md:\\GitHub\\projeto-analise-algoritmos-ufscar\\lista2\\exercicio_10.ipynb Cell 2\u001b[0m in \u001b[0;36m<cell line: 2>\u001b[1;34m()\u001b[0m\n\u001b[0;32m      <a href='vscode-notebook-cell:/d%3A/GitHub/projeto-analise-algoritmos-ufscar/lista2/exercicio_10.ipynb#W1sZmlsZQ%3D%3D?line=0'>1</a>\u001b[0m \u001b[39massert\u001b[39;00m beauty([\u001b[39m1\u001b[39m, \u001b[39m2\u001b[39m, \u001b[39m3\u001b[39m, \u001b[39m4\u001b[39m, \u001b[39m5\u001b[39m, \u001b[39m6\u001b[39m], \u001b[39m9\u001b[39m) \u001b[39m==\u001b[39m \u001b[39mTrue\u001b[39;00m\n\u001b[1;32m----> <a href='vscode-notebook-cell:/d%3A/GitHub/projeto-analise-algoritmos-ufscar/lista2/exercicio_10.ipynb#W1sZmlsZQ%3D%3D?line=1'>2</a>\u001b[0m \u001b[39massert\u001b[39;00m beauty([\u001b[39m1\u001b[39m, \u001b[39m2\u001b[39m, \u001b[39m3\u001b[39m, \u001b[39m4\u001b[39m, \u001b[39m5\u001b[39m, \u001b[39m6\u001b[39m], \u001b[39m6\u001b[39m) \u001b[39m==\u001b[39m \u001b[39mTrue\u001b[39;00m\n",
      "\u001b[1;31mAssertionError\u001b[0m: "
     ]
    }
   ],
   "source": [
    "assert beauty([1, 2, 3, 4, 5, 6], 9) == True\n",
    "assert beauty([1, 2, 3, 4, 5, 6], 6) == True"
   ]
  }
 ],
 "metadata": {
  "kernelspec": {
   "display_name": "machinelearning",
   "language": "python",
   "name": "python3"
  },
  "language_info": {
   "codemirror_mode": {
    "name": "ipython",
    "version": 3
   },
   "file_extension": ".py",
   "mimetype": "text/x-python",
   "name": "python",
   "nbconvert_exporter": "python",
   "pygments_lexer": "ipython3",
   "version": "3.8.3"
  },
  "orig_nbformat": 4
 },
 "nbformat": 4,
 "nbformat_minor": 2
}

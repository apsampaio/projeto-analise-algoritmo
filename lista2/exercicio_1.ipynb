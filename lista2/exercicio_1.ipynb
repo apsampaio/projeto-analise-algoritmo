{
 "cells": [
  {
   "cell_type": "code",
   "execution_count": 22,
   "metadata": {},
   "outputs": [],
   "source": [
    "import math\n",
    "\n",
    "def calc(B: list, D: list):\n",
    "    md = 0\n",
    "    mb = math.inf\n",
    "    \n",
    "    total = -1\n",
    "    year = 0\n",
    "    \n",
    "    for i in range(len(B)): # n\n",
    "        if D[i] > md:\n",
    "            md = D[i]\n",
    "        if B[i] < mb:\n",
    "            mb = B[i]\n",
    "\n",
    "    for j in range(mb, md): #n^2\n",
    "        alive = 0\n",
    "        for i in range(len(B)):\n",
    "            if j >= B[i] and j <= D[i]:\n",
    "                alive += 1\n",
    "        \n",
    "        if total == -1 or alive > total:\n",
    "            print(j, alive)\n",
    "            total = alive\n",
    "            year = j\n",
    "    return year\n",
    "    \n",
    "assert calc([1993, 2000], [1999, 2010]) == 1993\n",
    "assert calc([1950, 1960, 1970], [1961, 1971, 1981]) == 1960"
   ]
  },
  {
   "cell_type": "markdown",
   "metadata": {},
   "source": [
    "Complexity : $O(n^2)$"
   ]
  }
 ],
 "metadata": {
  "kernelspec": {
   "display_name": "machinelearning",
   "language": "python",
   "name": "python3"
  },
  "language_info": {
   "codemirror_mode": {
    "name": "ipython",
    "version": 3
   },
   "file_extension": ".py",
   "mimetype": "text/x-python",
   "name": "python",
   "nbconvert_exporter": "python",
   "pygments_lexer": "ipython3",
   "version": "3.8.3"
  },
  "orig_nbformat": 4
 },
 "nbformat": 4,
 "nbformat_minor": 2
}

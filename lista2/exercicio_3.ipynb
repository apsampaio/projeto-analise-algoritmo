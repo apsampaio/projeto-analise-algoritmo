{
 "cells": [
  {
   "cell_type": "code",
   "execution_count": 5,
   "metadata": {},
   "outputs": [],
   "source": [
    "import math\n",
    "\n",
    "def function(a: int, b: int):\n",
    "    if b == 1:\n",
    "        return a\n",
    "    else:\n",
    "        c = b * b\n",
    "        ans = function(c, math.floor(b / 2))\n",
    "    if b % 2 == 0:\n",
    "        return a * ans\n",
    "    else:\n",
    "        return ans "
   ]
  },
  {
   "cell_type": "code",
   "execution_count": 6,
   "metadata": {},
   "outputs": [
    {
     "data": {
      "text/plain": [
       "8"
      ]
     },
     "execution_count": 6,
     "metadata": {},
     "output_type": "execute_result"
    }
   ],
   "source": [
    "function(2, 2)"
   ]
  },
  {
   "cell_type": "markdown",
   "metadata": {},
   "source": [
    "$$ T(n) = 1 * T(\\frac{n}{2}) + c $$\n",
    "$$ T = (\\frac{n}{2^h}) $$\n",
    "$$ 2^h = n $$\n",
    "$$ log_2 n = h $$\n",
    "$$ O(log_2 n) $$"
   ]
  }
 ],
 "metadata": {
  "kernelspec": {
   "display_name": "machinelearning",
   "language": "python",
   "name": "python3"
  },
  "language_info": {
   "codemirror_mode": {
    "name": "ipython",
    "version": 3
   },
   "file_extension": ".py",
   "mimetype": "text/x-python",
   "name": "python",
   "nbconvert_exporter": "python",
   "pygments_lexer": "ipython3",
   "version": "3.8.3"
  },
  "orig_nbformat": 4
 },
 "nbformat": 4,
 "nbformat_minor": 2
}

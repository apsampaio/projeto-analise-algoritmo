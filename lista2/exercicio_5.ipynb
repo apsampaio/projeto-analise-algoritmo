{
 "cells": [
  {
   "cell_type": "code",
   "execution_count": 1,
   "metadata": {},
   "outputs": [],
   "source": [
    "A = [1, 2, 3]\n",
    "B = [6, 4, 5]\n",
    "\n",
    "# Find closest sum to K between to arrays\n",
    "# A is sorted, B is not\n",
    "# use B Search\n",
    "\n",
    "def close(A: list, B: list, k: int):\n",
    "    import math \n",
    "    low = 0 \n",
    "    high = len(A) - 1\n",
    "    diff = math.inf\n",
    "    r = ()\n",
    "    match = []\n",
    "    while low <= high:\n",
    "        mid = (low + high) // 2\n",
    "\n",
    "        if A[mid] > k:\n",
    "            high = mid - 1\n",
    "            continue\n",
    "\n",
    "        for b in B:\n",
    "            sum = b + A[mid]\n",
    "            if sum == k: \n",
    "                match.append((A[mid], b))\n",
    "                high = mid - 1 \n",
    "            elif sum < k:\n",
    "                if len(match) != 0 : continue\n",
    "                if k - sum < diff:\n",
    "                    diff = k - sum \n",
    "                    r = (A[mid], b)\n",
    "                low = mid + 1\n",
    "    \n",
    "    if len(match):\n",
    "        return match\n",
    "    return r"
   ]
  },
  {
   "cell_type": "code",
   "execution_count": 2,
   "metadata": {},
   "outputs": [
    {
     "name": "stdout",
     "output_type": "stream",
     "text": [
      "(3, 6)\n",
      "[(13, 0), (5, 8)]\n"
     ]
    }
   ],
   "source": [
    "print(close([1, 2, 3], [4, 5, 6], 10))\n",
    "print(close([5, 13, 20], [0, 15, 8], 13))\n"
   ]
  }
 ],
 "metadata": {
  "kernelspec": {
   "display_name": "machinelearning",
   "language": "python",
   "name": "python3"
  },
  "language_info": {
   "codemirror_mode": {
    "name": "ipython",
    "version": 3
   },
   "file_extension": ".py",
   "mimetype": "text/x-python",
   "name": "python",
   "nbconvert_exporter": "python",
   "pygments_lexer": "ipython3",
   "version": "3.8.3"
  },
  "orig_nbformat": 4
 },
 "nbformat": 4,
 "nbformat_minor": 2
}

{
 "cells": [
  {
   "cell_type": "markdown",
   "metadata": {},
   "source": [
    "$$T(n) <= 2T(\\frac{n}{2}) + cn^1$$\n",
    "\n",
    "$ a = 2$\n",
    "\n",
    "$ b = 2$\n",
    "\n",
    "$ d = 1$\n",
    "\n",
    "$ c = ?$\n",
    "\n",
    "$R: T(n) = O(n^d\\log_2 n)$"
   ]
  }
 ],
 "metadata": {
  "language_info": {
   "name": "python"
  },
  "orig_nbformat": 4
 },
 "nbformat": 4,
 "nbformat_minor": 2
}

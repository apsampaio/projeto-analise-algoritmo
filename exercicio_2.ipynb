{
 "cells": [
  {
   "cell_type": "code",
   "execution_count": 70,
   "metadata": {},
   "outputs": [],
   "source": [
    "def check_word_iterative(word: str):\n",
    "    for i in range(len(word)):\n",
    "        if word[i] != word[-abs(i) - 1]:\n",
    "            return False\n",
    "    return True\n",
    "##\n",
    "\n",
    "def check_word_recursive(word: str, idx=0):\n",
    "    if len(word) == idx:\n",
    "        return True\n",
    "\n",
    "    if word[idx] != word[-abs(idx) - 1]:\n",
    "        return False\n",
    "\n",
    "    idx += 1\n",
    "    return check_word_recursive(word, idx)\n",
    "##    \n",
    "\n",
    "def one_liner(word: str):\n",
    "    return word == word[::-1]\n",
    "##\n",
    "\n",
    "##  0  1  2  3  4\n",
    "##  A  R  A  R  A\n",
    "## -5 -4 -3 -2 -1 \n"
   ]
  },
  {
   "cell_type": "code",
   "execution_count": 71,
   "metadata": {},
   "outputs": [],
   "source": [
    "assert check_word_iterative(\"arara\") == True\n",
    "assert check_word_iterative(\"ovo\") == True\n",
    "assert check_word_iterative(\"234432\") == True\n",
    "assert check_word_iterative(\"carro\") == False\n",
    "\n",
    "assert check_word_recursive(\"arara\") == True\n",
    "assert check_word_recursive(\"ovo\") == True\n",
    "assert check_word_recursive(\"234432\") == True\n",
    "assert check_word_recursive(\"carro\") == False\n",
    "    \n",
    "assert one_liner(\"arara\") == True\n",
    "assert one_liner(\"ovo\") == True\n",
    "assert one_liner(\"234432\") == True\n",
    "assert one_liner(\"carro\") == False\n"
   ]
  }
 ],
 "metadata": {
  "kernelspec": {
   "display_name": "Python 3",
   "language": "python",
   "name": "python3"
  },
  "language_info": {
   "codemirror_mode": {
    "name": "ipython",
    "version": 3
   },
   "file_extension": ".py",
   "mimetype": "text/x-python",
   "name": "python",
   "nbconvert_exporter": "python",
   "pygments_lexer": "ipython3",
   "version": "3.9.0"
  },
  "orig_nbformat": 4
 },
 "nbformat": 4,
 "nbformat_minor": 2
}

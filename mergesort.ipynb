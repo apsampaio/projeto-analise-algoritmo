{
 "cells": [
  {
   "cell_type": "code",
   "execution_count": 17,
   "metadata": {},
   "outputs": [],
   "source": [
    "def merge(A: list, aux: list, start: int, mid: int, end: int):\n",
    "    for k in range(start, end + 1):\n",
    "        aux[k] = A[k]\n",
    "    \n",
    "    i = start\n",
    "    j = mid + 1\n",
    "\n",
    "    for k in range(start, end + 1):\n",
    "        if i > mid:\n",
    "            A[k] = aux[j]\n",
    "            j += 1\n",
    "        elif j > end:\n",
    "            A[k] = aux[i]\n",
    "            i += 1\n",
    "        elif aux[j] < aux[i]:\n",
    "            A[k] = aux[j]\n",
    "            j += 1\n",
    "        else:\n",
    "            A[k] = aux[i]\n",
    "            i += 1\n",
    "\n",
    "def mergesort(A, aux, start, end):\n",
    "    if end <= start:\n",
    "        return\n",
    "    \n",
    "    mid = (start + end) // 2\n",
    "    mergesort(A, aux, start, mid)   # left\n",
    "    mergesort(A, aux, mid + 1, end) # end\n",
    "    merge(A, aux, start, mid, end)\n",
    "\n"
   ]
  },
  {
   "cell_type": "code",
   "execution_count": 18,
   "metadata": {},
   "outputs": [
    {
     "name": "stdout",
     "output_type": "stream",
     "text": [
      "[1, 2, 3, 4]\n"
     ]
    }
   ],
   "source": [
    "A = [4, 2, 3, 1]\n",
    "aux = [0] * len(A)\n",
    "\n",
    "mergesort(A, aux, 0, len(A) - 1)\n",
    "print(A)"
   ]
  },
  {
   "cell_type": "code",
   "execution_count": 1,
   "metadata": {},
   "outputs": [
    {
     "data": {
      "text/plain": [
       "75.2"
      ]
     },
     "execution_count": 1,
     "metadata": {},
     "output_type": "execute_result"
    }
   ],
   "source": [
    "x = [12.3, 23.4, 35.9, 45.3, 52.7, 66.6, 75.2, 77.7, 88.9, 98.3]\n",
    "x[-4]"
   ]
  }
 ],
 "metadata": {
  "kernelspec": {
   "display_name": "machinelearning",
   "language": "python",
   "name": "python3"
  },
  "language_info": {
   "codemirror_mode": {
    "name": "ipython",
    "version": 3
   },
   "file_extension": ".py",
   "mimetype": "text/x-python",
   "name": "python",
   "nbconvert_exporter": "python",
   "pygments_lexer": "ipython3",
   "version": "3.8.3"
  },
  "orig_nbformat": 4
 },
 "nbformat": 4,
 "nbformat_minor": 2
}

{
 "cells": [
  {
   "cell_type": "code",
   "execution_count": 6,
   "metadata": {},
   "outputs": [
    {
     "data": {
      "text/plain": [
       "730"
      ]
     },
     "execution_count": 6,
     "metadata": {},
     "output_type": "execute_result"
    }
   ],
   "source": [
    "W = 30 # Maximo\n",
    "A = [10, 20, 30, 5, 10, 5] # Peso\n",
    "B = [100, 300, 500, 237, 73, 193] # Valor\n",
    "\n",
    "def mochila(W, A, B, N):\n",
    "    if N == 0 or W == 0:\n",
    "        return 0\n",
    "    \n",
    "    if A[N - 1] > W:\n",
    "        return mochila(W, A, B, N - 1)\n",
    "    \n",
    "    return max(B[N - 1] + mochila(W - A[N-1], A, B, N - 1), mochila(W, A, B, N - 1))\n",
    "\n",
    "\n",
    "mochila(W, A, B, len(A))"
   ]
  },
  {
   "cell_type": "markdown",
   "metadata": {},
   "source": [
    "<p align=\"center\">\n",
    "    <img src=\"./images/exercicio_12_diagrama.png\" alt=\"Alternative text\" width=\"50%\" />\n",
    "</p>"
   ]
  }
 ],
 "metadata": {
  "kernelspec": {
   "display_name": "Python 3",
   "language": "python",
   "name": "python3"
  },
  "language_info": {
   "codemirror_mode": {
    "name": "ipython",
    "version": 3
   },
   "file_extension": ".py",
   "mimetype": "text/x-python",
   "name": "python",
   "nbconvert_exporter": "python",
   "pygments_lexer": "ipython3",
   "version": "3.9.0"
  },
  "orig_nbformat": 4
 },
 "nbformat": 4,
 "nbformat_minor": 2
}

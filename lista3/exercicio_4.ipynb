{
 "cells": [
  {
   "cell_type": "code",
   "execution_count": null,
   "metadata": {},
   "outputs": [],
   "source": [
    "# A class to represent a graph object\n",
    "class Graph:\n",
    "    def __init__(self, edges, n):\n",
    "        self.adjList = [[] for _ in range(n)]\n",
    "        # add edges to the undirected graph\n",
    "        for (src, dest) in edges:\n",
    "            self.adjList[src].append(dest)\n",
    "            self.adjList[dest].append(src)\n",
    "\n",
    "# Function to assign colors to vertices of a graph\n",
    "def colorGraph(graph, n):\n",
    "    # keep track of the color assigned to each vertex\n",
    "    result = {}\n",
    "    # assign a color to vertex one by one\n",
    "    for u in range(n):\n",
    "        # check colors of adjacent vertices of `u` and store them in a set\n",
    "        assigned = set([result.get(i) for i in graph.adjList[u] if i in result])\n",
    "        # check for the first free color\n",
    "        color = 1\n",
    "        for c in assigned:\n",
    "            if color != c:\n",
    "                break\n",
    "            color = color + 1\n",
    "        # assign vertex `u` the first available color\n",
    "        result[u] = color"
   ]
  },
  {
   "cell_type": "markdown",
   "metadata": {},
   "source": [
    "O algoritmo escolhe a primeira cor disponivel para atribuir ao vertice sem nenhuma comparacao aos verticies adjacentes."
   ]
  }
 ],
 "metadata": {
  "language_info": {
   "name": "python"
  },
  "orig_nbformat": 4
 },
 "nbformat": 4,
 "nbformat_minor": 2
}

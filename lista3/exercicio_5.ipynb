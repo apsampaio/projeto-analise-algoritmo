{
 "cells": [
  {
   "cell_type": "code",
   "execution_count": 11,
   "metadata": {},
   "outputs": [],
   "source": [
    "events = [ \n",
    "    {\"name\": \"A\", \"start\": 1, \"end\": 3 },\n",
    "    {\"name\": \"B\", \"start\": 2, \"end\": 5 },\n",
    "    {\"name\": \"C\", \"start\": 3, \"end\": 6 },\n",
    "    {\"name\": \"D\", \"start\": 6, \"end\": 8 },\n",
    "    {\"name\": \"E\", \"start\": 4, \"end\": 6 },\n",
    "]\n",
    "\n",
    "def scheduling(events: list[dict]):\n",
    "    min_value = float('inf')\n",
    "    event_index = 0\n",
    "\n",
    "    schedule = []\n",
    "\n",
    "    # seleciona o evento que termina primeiro\n",
    "    for i in range(len(events)):\n",
    "        if events[i][\"end\"] < min_value:\n",
    "            min_value = events[i][\"end\"]\n",
    "            event_index = i\n",
    "\n",
    "    event = events.pop(event_index)\n",
    "    schedule.append(event)\n",
    "\n",
    "    while True:\n",
    "        min_value = float('inf')\n",
    "        # seleciona evento que comeca apos o evento selecionado\n",
    "        for i in range(len(events)):\n",
    "                if events[i][\"start\"] >= event[\"end\"]:\n",
    "                    if events[i][\"start\"] < min_value:\n",
    "                        min_value = events[i][\"start\"]\n",
    "                        event_index = i\n",
    "\n",
    "        if min_value == float('inf'):\n",
    "             break\n",
    "        \n",
    "        # adiciona o evento a lista\n",
    "        event = events.pop(event_index)\n",
    "        schedule.append(event)\n",
    "\n",
    "    return schedule\n"
   ]
  },
  {
   "cell_type": "code",
   "execution_count": 12,
   "metadata": {},
   "outputs": [
    {
     "data": {
      "text/plain": [
       "[{'name': 'A', 'start': 1, 'end': 3},\n",
       " {'name': 'C', 'start': 3, 'end': 6},\n",
       " {'name': 'D', 'start': 6, 'end': 8}]"
      ]
     },
     "execution_count": 12,
     "metadata": {},
     "output_type": "execute_result"
    }
   ],
   "source": [
    "scheduling(events) # Evento A, C e D"
   ]
  }
 ],
 "metadata": {
  "kernelspec": {
   "display_name": "Python 3",
   "language": "python",
   "name": "python3"
  },
  "language_info": {
   "codemirror_mode": {
    "name": "ipython",
    "version": 3
   },
   "file_extension": ".py",
   "mimetype": "text/x-python",
   "name": "python",
   "nbconvert_exporter": "python",
   "pygments_lexer": "ipython3",
   "version": "3.9.0"
  },
  "orig_nbformat": 4
 },
 "nbformat": 4,
 "nbformat_minor": 2
}

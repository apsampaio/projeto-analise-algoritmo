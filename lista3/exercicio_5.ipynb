{
 "cells": [
  {
   "cell_type": "code",
   "execution_count": 2,
   "metadata": {},
   "outputs": [
    {
     "data": {
      "text/plain": [
       "[2, 5, 1]"
      ]
     },
     "execution_count": 2,
     "metadata": {},
     "output_type": "execute_result"
    }
   ],
   "source": [
    "atividades = [2, 3, 5, 1, 4]\n",
    "inicio = [0, 1, 3, 4, 1]\n",
    "fim =    [2, 3, 4, 6, 6]\n",
    "\n",
    "def scheduling_aula(atividades: list, inicio: list, fim: list):\n",
    "    n = len(atividades)\n",
    "    selecao = []\n",
    "    selecao.append(atividades[0])\n",
    "\n",
    "    k = 0\n",
    "\n",
    "    for i in range(1, n):\n",
    "        if inicio[i] >= fim[k]:\n",
    "            selecao.append(atividades[i])\n",
    "            k = 1\n",
    "    return selecao\n",
    "\n",
    "scheduling_aula(atividades, inicio, fim)\n"
   ]
  }
 ],
 "metadata": {
  "kernelspec": {
   "display_name": "Python 3",
   "language": "python",
   "name": "python3"
  },
  "language_info": {
   "codemirror_mode": {
    "name": "ipython",
    "version": 3
   },
   "file_extension": ".py",
   "mimetype": "text/x-python",
   "name": "python",
   "nbconvert_exporter": "python",
   "pygments_lexer": "ipython3",
   "version": "3.9.0"
  },
  "orig_nbformat": 4
 },
 "nbformat": 4,
 "nbformat_minor": 2
}

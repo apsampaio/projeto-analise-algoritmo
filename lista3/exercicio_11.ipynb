{
 "cells": [
  {
   "cell_type": "markdown",
   "metadata": {},
   "source": [
    "<p align=\"center\">\n",
    "    <img src=\"./images/exercicio_11_tabela.png\" alt=\"Alternative text\" width=\"100%\" />\n",
    "</p>"
   ]
  }
 ],
 "metadata": {
  "language_info": {
   "name": "python"
  },
  "orig_nbformat": 4
 },
 "nbformat": 4,
 "nbformat_minor": 2
}

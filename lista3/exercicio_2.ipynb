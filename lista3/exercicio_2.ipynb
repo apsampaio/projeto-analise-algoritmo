{
 "cells": [
  {
   "cell_type": "markdown",
   "metadata": {},
   "source": [
    "<p>\n",
    "<img src=\"./images/exercicio_2_diagrama.png\" alt=\"Alternative text\" width=\"100%\" />\n",
    "<img src=\"./images/exercicio_2_tabela.png\" alt=\"Alternative text\" width=\"100%\" />\n",
    "</p>"
   ]
  }
 ],
 "metadata": {
  "language_info": {
   "name": "python"
  },
  "orig_nbformat": 4
 },
 "nbformat": 4,
 "nbformat_minor": 2
}

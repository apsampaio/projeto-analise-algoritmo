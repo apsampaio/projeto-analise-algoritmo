{
 "cells": [
  {
   "cell_type": "code",
   "execution_count": null,
   "metadata": {},
   "outputs": [],
   "source": [
    "N = int(input())\n",
    "\n",
    "LT = 0\n",
    "LD = 0\n",
    "\n",
    "for i in range(N):\n",
    "    T, D = map(int, input().split())\n",
    "    print(f\"arrived at the escalator at {T}\")\n",
    "    if LD == D:\n",
    "        if T < LT:\n",
    "            LT += 1\n",
    "        else:\n",
    "            LT = T + 10\n",
    "    else:\n",
    "        if T < LT:\n",
    "            LT += 10\n",
    "        else:\n",
    "            LT = T + 10\n",
    "        LD = D\n",
    "    print(f\"left the escalator at {LT}\")\n",
    "\n",
    "print(\"Final time: \", LT)\n",
    "\n",
    "# if is going up and the person wants to go up, it can hop in\n",
    "# if is going down and the person wants to go up, it needs to wait\n",
    "# if input 10, 1 -> 20 \n",
    "# if the next input 12, 1 -> 22\n",
    "# if the next input 14, 0 -> 32\n",
    "\n",
    "# 5, 1 ---> 15, 1\n",
    "# 6, 0 ---> 25, 0\n",
    "# 7, 0 ---> 26, 0\n",
    "# 13, 0 ---> 27, 0\n",
    "# 15, 1 ---> 37, 1"
   ]
  },
  {
   "cell_type": "markdown",
   "metadata": {},
   "source": [
    "<p>\n",
    "<img src=\"./images/exercicio_6_diagrama.png\" alt=\"Alternative text\" width=\"100%\" />\n",
    "</p>"
   ]
  }
 ],
 "metadata": {
  "kernelspec": {
   "display_name": "Python 3",
   "language": "python",
   "name": "python3"
  },
  "language_info": {
   "codemirror_mode": {
    "name": "ipython",
    "version": 3
   },
   "file_extension": ".py",
   "mimetype": "text/x-python",
   "name": "python",
   "nbconvert_exporter": "python",
   "pygments_lexer": "ipython3",
   "version": "3.9.0"
  },
  "orig_nbformat": 4
 },
 "nbformat": 4,
 "nbformat_minor": 2
}

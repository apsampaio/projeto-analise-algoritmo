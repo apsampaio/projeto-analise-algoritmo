{
 "cells": [
  {
   "cell_type": "code",
   "execution_count": 4,
   "metadata": {},
   "outputs": [],
   "source": [
    "def fib(n, memo = { }):\n",
    "    if n in memo:\n",
    "        return memo[n]\n",
    "    if n in { 1, 2 }:\n",
    "        return n - 1\n",
    "    \n",
    "    memo[n] = fib(n - 1, memo) + fib(n - 2, memo)\n",
    "    return memo[n]"
   ]
  },
  {
   "cell_type": "code",
   "execution_count": 5,
   "metadata": {},
   "outputs": [],
   "source": [
    "assert fib(1) == 0 # \n",
    "assert fib(2) == 1 # \n",
    "assert fib(3) == 1 # \n",
    "assert fib(4) == 2 # \n",
    "assert fib(5) == 3 # <- \n",
    "assert fib(13) == 144 #"
   ]
  },
  {
   "cell_type": "markdown",
   "metadata": {},
   "source": [
    "<p align=\"center\">\n",
    "    <img src=\"./images/exercicio_7_fib_tabela.png\" alt=\"Alternative text\" width=\"50%\" />\n",
    "    <img src=\"./images/exercicio_7_fib_diagrama.png\" alt=\"Alternative text\" width=\"50%\" />\n",
    "</p>"
   ]
  }
 ],
 "metadata": {
  "kernelspec": {
   "display_name": "Python 3",
   "language": "python",
   "name": "python3"
  },
  "language_info": {
   "codemirror_mode": {
    "name": "ipython",
    "version": 3
   },
   "file_extension": ".py",
   "mimetype": "text/x-python",
   "name": "python",
   "nbconvert_exporter": "python",
   "pygments_lexer": "ipython3",
   "version": "3.9.0"
  },
  "orig_nbformat": 4
 },
 "nbformat": 4,
 "nbformat_minor": 2
}

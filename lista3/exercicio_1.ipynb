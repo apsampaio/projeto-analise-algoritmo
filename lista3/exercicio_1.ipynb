{
 "cells": [
  {
   "cell_type": "code",
   "execution_count": 5,
   "metadata": {},
   "outputs": [],
   "source": [
    "# n = 0 - 1 - 2 - 3 - 4 - 5\n",
    "# o = 0 - 1 - 2 - 3 - 5 - 8\n",
    "def staircase(n: int, memo = {}):\n",
    "    if n < 3:\n",
    "        return n\n",
    "    \n",
    "    memo[n] = staircase(n - 1, memo) + staircase(n - 2, memo)\n",
    "    return memo[n]"
   ]
  },
  {
   "cell_type": "code",
   "execution_count": 8,
   "metadata": {},
   "outputs": [],
   "source": [
    "assert staircase(6) == 13  # ✅\n",
    "assert staircase(7) == 21  # ✅\n",
    "assert staircase(8) == 34  # ✅ \n",
    "assert staircase(9) == 55  # ✅\n",
    "assert staircase(10) == 89 # ✅"
   ]
  }
 ],
 "metadata": {
  "kernelspec": {
   "display_name": "Python 3",
   "language": "python",
   "name": "python3"
  },
  "language_info": {
   "codemirror_mode": {
    "name": "ipython",
    "version": 3
   },
   "file_extension": ".py",
   "mimetype": "text/x-python",
   "name": "python",
   "nbconvert_exporter": "python",
   "pygments_lexer": "ipython3",
   "version": "3.9.0"
  },
  "orig_nbformat": 4
 },
 "nbformat": 4,
 "nbformat_minor": 2
}

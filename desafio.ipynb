{
 "cells": [
  {
   "cell_type": "code",
   "execution_count": null,
   "metadata": {},
   "outputs": [],
   "source": [
    "# Desafio - Encontrar algoritmo que possui dois laços, porém não é n2\n",
    "\n",
    "import math\n",
    "\n",
    "def desafio(n):\n",
    "    for _ in range(n):\n",
    "        for _ in range(n):\n",
    "            m = math.floor(math.sqrt(n))\n",
    "            for j in range(m):\n",
    "                print(j)\n"
   ]
  },
  {
   "attachments": {},
   "cell_type": "markdown",
   "metadata": {},
   "source": [
    "$n * n * \\sqrt{n} = n^{\\frac{2}{1}} * n^{\\frac{1}{2}} = n^{\\frac{4 + 1}{2}} = n^{\\frac{5}{2}} = n^{2.5}$"
   ]
  }
 ],
 "metadata": {
  "kernelspec": {
   "display_name": "Python 3",
   "language": "python",
   "name": "python3"
  },
  "language_info": {
   "codemirror_mode": {
    "name": "ipython",
    "version": 3
   },
   "file_extension": ".py",
   "mimetype": "text/x-python",
   "name": "python",
   "nbconvert_exporter": "python",
   "pygments_lexer": "ipython3",
   "version": "3.9.0"
  },
  "orig_nbformat": 4
 },
 "nbformat": 4,
 "nbformat_minor": 2
}
